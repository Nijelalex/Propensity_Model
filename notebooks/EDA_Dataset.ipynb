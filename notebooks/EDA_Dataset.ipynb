{
 "cells": [
  {
   "cell_type": "markdown",
   "id": "c096e742",
   "metadata": {},
   "source": [
    "# EDA on the Dataset"
   ]
  },
  {
   "cell_type": "code",
   "execution_count": 3,
   "id": "2b0a416b",
   "metadata": {},
   "outputs": [
    {
     "name": "stdout",
     "output_type": "stream",
     "text": [
      "D:\\University\\CST4090 - Thesis\\Propensity Model\\thesis-propensity-model\n"
     ]
    },
    {
     "data": {
      "text/html": [
       "<pre style=\"white-space:pre;overflow-x:auto;line-height:normal;font-family:Menlo,'DejaVu Sans Mono',consolas,'Courier New',monospace\"><span style=\"color: #7fbfbf; text-decoration-color: #7fbfbf\">[07/24/22 19:20:03] </span><span style=\"color: #000080; text-decoration-color: #000080\">INFO    </span> No path argument was provided. Using: D:\\University\\CST4090 -            <a href=\"file://C:\\Users\\Nijel\\Anaconda3\\envs\\thesis-env\\lib\\site-packages\\kedro\\extras\\extensions\\ipython.py\" target=\"_blank\"><span style=\"color: #7f7f7f; text-decoration-color: #7f7f7f\">ipython.py</span></a><span style=\"color: #7f7f7f; text-decoration-color: #7f7f7f\">:</span><a href=\"file://C:\\Users\\Nijel\\Anaconda3\\envs\\thesis-env\\lib\\site-packages\\kedro\\extras\\extensions\\ipython.py#55\" target=\"_blank\"><span style=\"color: #7f7f7f; text-decoration-color: #7f7f7f\">55</span></a>\n",
       "<span style=\"color: #7fbfbf; text-decoration-color: #7fbfbf\">                    </span>         Thesis\\Propensity Model\\thesis-propensity-model                          <span style=\"color: #7f7f7f; text-decoration-color: #7f7f7f\">             </span>\n",
       "</pre>\n"
      ],
      "text/plain": [
       "\u001b[2;36m[07/24/22 19:20:03]\u001b[0m\u001b[2;36m \u001b[0m\u001b[34mINFO    \u001b[0m No path argument was provided. Using: D:\\University\\CST4090 -            \u001b]8;id=903356;file://C:\\Users\\Nijel\\Anaconda3\\envs\\thesis-env\\lib\\site-packages\\kedro\\extras\\extensions\\ipython.py\u001b\\\u001b[2mipython.py\u001b[0m\u001b]8;;\u001b\\\u001b[2m:\u001b[0m\u001b]8;id=466722;file://C:\\Users\\Nijel\\Anaconda3\\envs\\thesis-env\\lib\\site-packages\\kedro\\extras\\extensions\\ipython.py#55\u001b\\\u001b[2m55\u001b[0m\u001b]8;;\u001b\\\n",
       "\u001b[2;36m                    \u001b[0m         Thesis\\Propensity Model\\thesis-propensity-model                          \u001b[2m             \u001b[0m\n"
      ]
     },
     "metadata": {},
     "output_type": "display_data"
    },
    {
     "data": {
      "text/html": [
       "<pre style=\"white-space:pre;overflow-x:auto;line-height:normal;font-family:Menlo,'DejaVu Sans Mono',consolas,'Courier New',monospace\"><span style=\"color: #7fbfbf; text-decoration-color: #7fbfbf\">[07/24/22 19:20:03] </span><span style=\"color: #000080; text-decoration-color: #000080\">INFO    </span> Kedro project thesis_propensity_model                                    <a href=\"file://C:\\Users\\Nijel\\Anaconda3\\envs\\thesis-env\\lib\\site-packages\\kedro\\extras\\extensions\\ipython.py\" target=\"_blank\"><span style=\"color: #7f7f7f; text-decoration-color: #7f7f7f\">ipython.py</span></a><span style=\"color: #7f7f7f; text-decoration-color: #7f7f7f\">:</span><a href=\"file://C:\\Users\\Nijel\\Anaconda3\\envs\\thesis-env\\lib\\site-packages\\kedro\\extras\\extensions\\ipython.py#78\" target=\"_blank\"><span style=\"color: #7f7f7f; text-decoration-color: #7f7f7f\">78</span></a>\n",
       "</pre>\n"
      ],
      "text/plain": [
       "\u001b[2;36m[07/24/22 19:20:03]\u001b[0m\u001b[2;36m \u001b[0m\u001b[34mINFO    \u001b[0m Kedro project thesis_propensity_model                                    \u001b]8;id=540956;file://C:\\Users\\Nijel\\Anaconda3\\envs\\thesis-env\\lib\\site-packages\\kedro\\extras\\extensions\\ipython.py\u001b\\\u001b[2mipython.py\u001b[0m\u001b]8;;\u001b\\\u001b[2m:\u001b[0m\u001b]8;id=384653;file://C:\\Users\\Nijel\\Anaconda3\\envs\\thesis-env\\lib\\site-packages\\kedro\\extras\\extensions\\ipython.py#78\u001b\\\u001b[2m78\u001b[0m\u001b]8;;\u001b\\\n"
      ]
     },
     "metadata": {},
     "output_type": "display_data"
    },
    {
     "data": {
      "text/html": [
       "<pre style=\"white-space:pre;overflow-x:auto;line-height:normal;font-family:Menlo,'DejaVu Sans Mono',consolas,'Courier New',monospace\"><span style=\"color: #7fbfbf; text-decoration-color: #7fbfbf\">                    </span><span style=\"color: #000080; text-decoration-color: #000080\">INFO    </span> Defined global variable <span style=\"color: #008000; text-decoration-color: #008000\">'context'</span>, <span style=\"color: #008000; text-decoration-color: #008000\">'session'</span>, <span style=\"color: #008000; text-decoration-color: #008000\">'catalog'</span> and <span style=\"color: #008000; text-decoration-color: #008000\">'pipelines'</span>  <a href=\"file://C:\\Users\\Nijel\\Anaconda3\\envs\\thesis-env\\lib\\site-packages\\kedro\\extras\\extensions\\ipython.py\" target=\"_blank\"><span style=\"color: #7f7f7f; text-decoration-color: #7f7f7f\">ipython.py</span></a><span style=\"color: #7f7f7f; text-decoration-color: #7f7f7f\">:</span><a href=\"file://C:\\Users\\Nijel\\Anaconda3\\envs\\thesis-env\\lib\\site-packages\\kedro\\extras\\extensions\\ipython.py#79\" target=\"_blank\"><span style=\"color: #7f7f7f; text-decoration-color: #7f7f7f\">79</span></a>\n",
       "</pre>\n"
      ],
      "text/plain": [
       "\u001b[2;36m                   \u001b[0m\u001b[2;36m \u001b[0m\u001b[34mINFO    \u001b[0m Defined global variable \u001b[32m'context'\u001b[0m, \u001b[32m'session'\u001b[0m, \u001b[32m'catalog'\u001b[0m and \u001b[32m'pipelines'\u001b[0m  \u001b]8;id=739024;file://C:\\Users\\Nijel\\Anaconda3\\envs\\thesis-env\\lib\\site-packages\\kedro\\extras\\extensions\\ipython.py\u001b\\\u001b[2mipython.py\u001b[0m\u001b]8;;\u001b\\\u001b[2m:\u001b[0m\u001b]8;id=654798;file://C:\\Users\\Nijel\\Anaconda3\\envs\\thesis-env\\lib\\site-packages\\kedro\\extras\\extensions\\ipython.py#79\u001b\\\u001b[2m79\u001b[0m\u001b]8;;\u001b\\\n"
      ]
     },
     "metadata": {},
     "output_type": "display_data"
    }
   ],
   "source": [
    "#Change directory and load catalog and pipeline from Kedro\n",
    "%cd \"D:\\University\\CST4090 - Thesis\\Propensity Model\\thesis-propensity-model\"\n",
    "%reload_kedro\n"
   ]
  },
  {
   "cell_type": "code",
   "execution_count": 4,
   "id": "c8df76b3",
   "metadata": {},
   "outputs": [
    {
     "data": {
      "text/html": [
       "<pre style=\"white-space:pre;overflow-x:auto;line-height:normal;font-family:Menlo,'DejaVu Sans Mono',consolas,'Courier New',monospace\"><span style=\"color: #7fbfbf; text-decoration-color: #7fbfbf\">[07/24/22 19:20:24] </span><span style=\"color: #000080; text-decoration-color: #000080\">INFO    </span> Loading data from <span style=\"color: #008000; text-decoration-color: #008000\">'bank_raw'</span> <span style=\"font-weight: bold\">(</span>CSVDataSet<span style=\"font-weight: bold\">)</span><span style=\"color: #808000; text-decoration-color: #808000\">...</span>                       <a href=\"file://C:\\Users\\Nijel\\Anaconda3\\envs\\thesis-env\\lib\\site-packages\\kedro\\io\\data_catalog.py\" target=\"_blank\"><span style=\"color: #7f7f7f; text-decoration-color: #7f7f7f\">data_catalog.py</span></a><span style=\"color: #7f7f7f; text-decoration-color: #7f7f7f\">:</span><a href=\"file://C:\\Users\\Nijel\\Anaconda3\\envs\\thesis-env\\lib\\site-packages\\kedro\\io\\data_catalog.py#343\" target=\"_blank\"><span style=\"color: #7f7f7f; text-decoration-color: #7f7f7f\">343</span></a>\n",
       "</pre>\n"
      ],
      "text/plain": [
       "\u001b[2;36m[07/24/22 19:20:24]\u001b[0m\u001b[2;36m \u001b[0m\u001b[34mINFO    \u001b[0m Loading data from \u001b[32m'bank_raw'\u001b[0m \u001b[1m(\u001b[0mCSVDataSet\u001b[1m)\u001b[0m\u001b[33m...\u001b[0m                       \u001b]8;id=625340;file://C:\\Users\\Nijel\\Anaconda3\\envs\\thesis-env\\lib\\site-packages\\kedro\\io\\data_catalog.py\u001b\\\u001b[2mdata_catalog.py\u001b[0m\u001b]8;;\u001b\\\u001b[2m:\u001b[0m\u001b]8;id=490646;file://C:\\Users\\Nijel\\Anaconda3\\envs\\thesis-env\\lib\\site-packages\\kedro\\io\\data_catalog.py#343\u001b\\\u001b[2m343\u001b[0m\u001b]8;;\u001b\\\n"
      ]
     },
     "metadata": {},
     "output_type": "display_data"
    }
   ],
   "source": [
    "#Load the Raw Dataset\n",
    "bank_raw=catalog.load(\"bank_raw\")"
   ]
  },
  {
   "cell_type": "code",
   "execution_count": 7,
   "id": "56b41c03",
   "metadata": {},
   "outputs": [
    {
     "data": {
      "text/html": [
       "<pre style=\"white-space:pre;overflow-x:auto;line-height:normal;font-family:Menlo,'DejaVu Sans Mono',consolas,'Courier New',monospace\"><span style=\"font-weight: bold\">(</span><span style=\"color: #008080; text-decoration-color: #008080; font-weight: bold\">41188</span>, <span style=\"color: #008080; text-decoration-color: #008080; font-weight: bold\">21</span><span style=\"font-weight: bold\">)</span>\n",
       "</pre>\n"
      ],
      "text/plain": [
       "\u001b[1m(\u001b[0m\u001b[1;36m41188\u001b[0m, \u001b[1;36m21\u001b[0m\u001b[1m)\u001b[0m\n"
      ]
     },
     "metadata": {},
     "output_type": "display_data"
    }
   ],
   "source": [
    "bank_raw.shape"
   ]
  },
  {
   "cell_type": "code",
   "execution_count": 8,
   "id": "2b3d9e3b",
   "metadata": {},
   "outputs": [
    {
     "data": {
      "text/html": [
       "<pre style=\"white-space:pre;overflow-x:auto;line-height:normal;font-family:Menlo,'DejaVu Sans Mono',consolas,'Courier New',monospace\">\n",
       "<span style=\"font-weight: bold\">[</span>\n",
       "    <span style=\"color: #008000; text-decoration-color: #008000\">'age'</span>,\n",
       "    <span style=\"color: #008000; text-decoration-color: #008000\">'job'</span>,\n",
       "    <span style=\"color: #008000; text-decoration-color: #008000\">'marital'</span>,\n",
       "    <span style=\"color: #008000; text-decoration-color: #008000\">'education'</span>,\n",
       "    <span style=\"color: #008000; text-decoration-color: #008000\">'default'</span>,\n",
       "    <span style=\"color: #008000; text-decoration-color: #008000\">'housing'</span>,\n",
       "    <span style=\"color: #008000; text-decoration-color: #008000\">'loan'</span>,\n",
       "    <span style=\"color: #008000; text-decoration-color: #008000\">'contact'</span>,\n",
       "    <span style=\"color: #008000; text-decoration-color: #008000\">'month'</span>,\n",
       "    <span style=\"color: #008000; text-decoration-color: #008000\">'day_of_week'</span>,\n",
       "    <span style=\"color: #008000; text-decoration-color: #008000\">'duration'</span>,\n",
       "    <span style=\"color: #008000; text-decoration-color: #008000\">'campaign'</span>,\n",
       "    <span style=\"color: #008000; text-decoration-color: #008000\">'pdays'</span>,\n",
       "    <span style=\"color: #008000; text-decoration-color: #008000\">'previous'</span>,\n",
       "    <span style=\"color: #008000; text-decoration-color: #008000\">'poutcome'</span>,\n",
       "    <span style=\"color: #008000; text-decoration-color: #008000\">'emp.var.rate'</span>,\n",
       "    <span style=\"color: #008000; text-decoration-color: #008000\">'cons.price.idx'</span>,\n",
       "    <span style=\"color: #008000; text-decoration-color: #008000\">'cons.conf.idx'</span>,\n",
       "    <span style=\"color: #008000; text-decoration-color: #008000\">'euribor3m'</span>,\n",
       "    <span style=\"color: #008000; text-decoration-color: #008000\">'nr.employed'</span>,\n",
       "    <span style=\"color: #008000; text-decoration-color: #008000\">'y'</span>\n",
       "<span style=\"font-weight: bold\">]</span>\n",
       "</pre>\n"
      ],
      "text/plain": [
       "\n",
       "\u001b[1m[\u001b[0m\n",
       "    \u001b[32m'age'\u001b[0m,\n",
       "    \u001b[32m'job'\u001b[0m,\n",
       "    \u001b[32m'marital'\u001b[0m,\n",
       "    \u001b[32m'education'\u001b[0m,\n",
       "    \u001b[32m'default'\u001b[0m,\n",
       "    \u001b[32m'housing'\u001b[0m,\n",
       "    \u001b[32m'loan'\u001b[0m,\n",
       "    \u001b[32m'contact'\u001b[0m,\n",
       "    \u001b[32m'month'\u001b[0m,\n",
       "    \u001b[32m'day_of_week'\u001b[0m,\n",
       "    \u001b[32m'duration'\u001b[0m,\n",
       "    \u001b[32m'campaign'\u001b[0m,\n",
       "    \u001b[32m'pdays'\u001b[0m,\n",
       "    \u001b[32m'previous'\u001b[0m,\n",
       "    \u001b[32m'poutcome'\u001b[0m,\n",
       "    \u001b[32m'emp.var.rate'\u001b[0m,\n",
       "    \u001b[32m'cons.price.idx'\u001b[0m,\n",
       "    \u001b[32m'cons.conf.idx'\u001b[0m,\n",
       "    \u001b[32m'euribor3m'\u001b[0m,\n",
       "    \u001b[32m'nr.employed'\u001b[0m,\n",
       "    \u001b[32m'y'\u001b[0m\n",
       "\u001b[1m]\u001b[0m\n"
      ]
     },
     "metadata": {},
     "output_type": "display_data"
    }
   ],
   "source": [
    "bank_raw.columns.to_list()"
   ]
  },
  {
   "cell_type": "code",
   "execution_count": null,
   "id": "6906d08c",
   "metadata": {},
   "outputs": [],
   "source": []
  }
 ],
 "metadata": {
  "kernelspec": {
   "display_name": "Kedro (thesis_propensity_model)",
   "language": "python",
   "name": "kedro_thesis_propensity_model"
  },
  "language_info": {
   "codemirror_mode": {
    "name": "ipython",
    "version": 3
   },
   "file_extension": ".py",
   "mimetype": "text/x-python",
   "name": "python",
   "nbconvert_exporter": "python",
   "pygments_lexer": "ipython3",
   "version": "3.10.4"
  }
 },
 "nbformat": 4,
 "nbformat_minor": 5
}
