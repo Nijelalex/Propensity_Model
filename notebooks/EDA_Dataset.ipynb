{
 "cells": [
  {
   "cell_type": "code",
   "execution_count": 1,
   "id": "c8df76b3",
   "metadata": {},
   "outputs": [
    {
     "data": {
      "text/html": [
       "<pre style=\"white-space:pre;overflow-x:auto;line-height:normal;font-family:Menlo,'DejaVu Sans Mono',consolas,'Courier New',monospace\"><span style=\"color: #7fbfbf; text-decoration-color: #7fbfbf\">[07/24/22 17:58:25] </span><span style=\"color: #000080; text-decoration-color: #000080\">INFO    </span> No path argument was provided. Using: D:\\University\\CST4090 -            <a href=\"file://C:\\Users\\Nijel\\Anaconda3\\envs\\thesis-env\\lib\\site-packages\\kedro\\extras\\extensions\\ipython.py\" target=\"_blank\"><span style=\"color: #7f7f7f; text-decoration-color: #7f7f7f\">ipython.py</span></a><span style=\"color: #7f7f7f; text-decoration-color: #7f7f7f\">:</span><a href=\"file://C:\\Users\\Nijel\\Anaconda3\\envs\\thesis-env\\lib\\site-packages\\kedro\\extras\\extensions\\ipython.py#55\" target=\"_blank\"><span style=\"color: #7f7f7f; text-decoration-color: #7f7f7f\">55</span></a>\n",
       "<span style=\"color: #7fbfbf; text-decoration-color: #7fbfbf\">                    </span>         Thesis\\Propensity Model\\thesis-propensity-model                          <span style=\"color: #7f7f7f; text-decoration-color: #7f7f7f\">             </span>\n",
       "</pre>\n"
      ],
      "text/plain": [
       "\u001b[2;36m[07/24/22 17:58:25]\u001b[0m\u001b[2;36m \u001b[0m\u001b[34mINFO    \u001b[0m No path argument was provided. Using: D:\\University\\CST4090 -            \u001b]8;id=889017;file://C:\\Users\\Nijel\\Anaconda3\\envs\\thesis-env\\lib\\site-packages\\kedro\\extras\\extensions\\ipython.py\u001b\\\u001b[2mipython.py\u001b[0m\u001b]8;;\u001b\\\u001b[2m:\u001b[0m\u001b]8;id=719468;file://C:\\Users\\Nijel\\Anaconda3\\envs\\thesis-env\\lib\\site-packages\\kedro\\extras\\extensions\\ipython.py#55\u001b\\\u001b[2m55\u001b[0m\u001b]8;;\u001b\\\n",
       "\u001b[2;36m                    \u001b[0m         Thesis\\Propensity Model\\thesis-propensity-model                          \u001b[2m             \u001b[0m\n"
      ]
     },
     "metadata": {},
     "output_type": "display_data"
    },
    {
     "data": {
      "text/html": [
       "<pre style=\"white-space:pre;overflow-x:auto;line-height:normal;font-family:Menlo,'DejaVu Sans Mono',consolas,'Courier New',monospace\"><span style=\"color: #7fbfbf; text-decoration-color: #7fbfbf\">[07/24/22 17:58:25] </span><span style=\"color: #000080; text-decoration-color: #000080\">INFO    </span> Kedro project thesis_propensity_model                                    <a href=\"file://C:\\Users\\Nijel\\Anaconda3\\envs\\thesis-env\\lib\\site-packages\\kedro\\extras\\extensions\\ipython.py\" target=\"_blank\"><span style=\"color: #7f7f7f; text-decoration-color: #7f7f7f\">ipython.py</span></a><span style=\"color: #7f7f7f; text-decoration-color: #7f7f7f\">:</span><a href=\"file://C:\\Users\\Nijel\\Anaconda3\\envs\\thesis-env\\lib\\site-packages\\kedro\\extras\\extensions\\ipython.py#78\" target=\"_blank\"><span style=\"color: #7f7f7f; text-decoration-color: #7f7f7f\">78</span></a>\n",
       "</pre>\n"
      ],
      "text/plain": [
       "\u001b[2;36m[07/24/22 17:58:25]\u001b[0m\u001b[2;36m \u001b[0m\u001b[34mINFO    \u001b[0m Kedro project thesis_propensity_model                                    \u001b]8;id=447474;file://C:\\Users\\Nijel\\Anaconda3\\envs\\thesis-env\\lib\\site-packages\\kedro\\extras\\extensions\\ipython.py\u001b\\\u001b[2mipython.py\u001b[0m\u001b]8;;\u001b\\\u001b[2m:\u001b[0m\u001b]8;id=848675;file://C:\\Users\\Nijel\\Anaconda3\\envs\\thesis-env\\lib\\site-packages\\kedro\\extras\\extensions\\ipython.py#78\u001b\\\u001b[2m78\u001b[0m\u001b]8;;\u001b\\\n"
      ]
     },
     "metadata": {},
     "output_type": "display_data"
    },
    {
     "data": {
      "text/html": [
       "<pre style=\"white-space:pre;overflow-x:auto;line-height:normal;font-family:Menlo,'DejaVu Sans Mono',consolas,'Courier New',monospace\"><span style=\"color: #7fbfbf; text-decoration-color: #7fbfbf\">                    </span><span style=\"color: #000080; text-decoration-color: #000080\">INFO    </span> Defined global variable <span style=\"color: #008000; text-decoration-color: #008000\">'context'</span>, <span style=\"color: #008000; text-decoration-color: #008000\">'session'</span>, <span style=\"color: #008000; text-decoration-color: #008000\">'catalog'</span> and <span style=\"color: #008000; text-decoration-color: #008000\">'pipelines'</span>  <a href=\"file://C:\\Users\\Nijel\\Anaconda3\\envs\\thesis-env\\lib\\site-packages\\kedro\\extras\\extensions\\ipython.py\" target=\"_blank\"><span style=\"color: #7f7f7f; text-decoration-color: #7f7f7f\">ipython.py</span></a><span style=\"color: #7f7f7f; text-decoration-color: #7f7f7f\">:</span><a href=\"file://C:\\Users\\Nijel\\Anaconda3\\envs\\thesis-env\\lib\\site-packages\\kedro\\extras\\extensions\\ipython.py#79\" target=\"_blank\"><span style=\"color: #7f7f7f; text-decoration-color: #7f7f7f\">79</span></a>\n",
       "</pre>\n"
      ],
      "text/plain": [
       "\u001b[2;36m                   \u001b[0m\u001b[2;36m \u001b[0m\u001b[34mINFO    \u001b[0m Defined global variable \u001b[32m'context'\u001b[0m, \u001b[32m'session'\u001b[0m, \u001b[32m'catalog'\u001b[0m and \u001b[32m'pipelines'\u001b[0m  \u001b]8;id=606745;file://C:\\Users\\Nijel\\Anaconda3\\envs\\thesis-env\\lib\\site-packages\\kedro\\extras\\extensions\\ipython.py\u001b\\\u001b[2mipython.py\u001b[0m\u001b]8;;\u001b\\\u001b[2m:\u001b[0m\u001b]8;id=183469;file://C:\\Users\\Nijel\\Anaconda3\\envs\\thesis-env\\lib\\site-packages\\kedro\\extras\\extensions\\ipython.py#79\u001b\\\u001b[2m79\u001b[0m\u001b]8;;\u001b\\\n"
      ]
     },
     "metadata": {},
     "output_type": "display_data"
    }
   ],
   "source": [
    "%reload_kedro\n"
   ]
  },
  {
   "cell_type": "code",
   "execution_count": null,
   "id": "56b41c03",
   "metadata": {},
   "outputs": [],
   "source": []
  }
 ],
 "metadata": {
  "kernelspec": {
   "display_name": "Kedro (thesis_propensity_model)",
   "language": "python",
   "name": "kedro_thesis_propensity_model"
  },
  "language_info": {
   "codemirror_mode": {
    "name": "ipython",
    "version": 3
   },
   "file_extension": ".py",
   "mimetype": "text/x-python",
   "name": "python",
   "nbconvert_exporter": "python",
   "pygments_lexer": "ipython3",
   "version": "3.10.4"
  }
 },
 "nbformat": 4,
 "nbformat_minor": 5
}
